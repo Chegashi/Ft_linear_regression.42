{
  "nbformat": 4,
  "nbformat_minor": 0,
  "metadata": {
    "colab": {
      "provenance": []
    },
    "kernelspec": {
      "name": "python3",
      "display_name": "Python 3"
    },
    "language_info": {
      "name": "python"
    }
  },
  "cells": [
    {
      "cell_type": "code",
      "execution_count": 16,
      "metadata": {
        "id": "57S7_oqJ3DDs"
      },
      "outputs": [],
      "source": [
        "import pandas as pd\n",
        "import numpy as np\n",
        "import matplotlib.pyplot as plt\n",
        "from mlxtend.preprocessing import minmax_scaling"
      ]
    },
    {
      "cell_type": "code",
      "source": [
        "df = pd.read_csv(\"/content/data.csv\")\n",
        "miles =  df[\"km\"].to_numpy()\n",
        "price =  df[\"price\"].to_numpy()\n",
        "miles = miles.reshape(miles.shape[0], 1)\n",
        "price = price.reshape(price.shape[0], 1)\n",
        "plt.scatter(miles,price) \n",
        "scaled_price = minmax_scaling(price, columns=[0])\n",
        "scaled_miles = minmax_scaling(miles, columns=[0])\n",
        "plt.scatter(scaled_price, scaled_miles)"
      ],
      "metadata": {
        "id": "6mXRIDCG3toD"
      },
      "execution_count": null,
      "outputs": []
    },
    {
      "cell_type": "code",
      "source": [
        "scaled_price = minmax_scaling(price, columns=[0])\n",
        "scaled_miles = minmax_scaling(miles, columns=[0])\n",
        "plt.scatter(scaled_price, scaled_miles)\n"
      ],
      "metadata": {
        "id": "42S6lYJS4eJQ"
      },
      "execution_count": null,
      "outputs": []
    },
    {
      "cell_type": "code",
      "source": [
        "theta0 = 0\n",
        "theta1 = 0\n",
        "theta = np.array([theta1, theta0]).reshape(2, 1)\n",
        "X = np.hstack((scaled_miles, np.ones(scaled_miles.shape)))\n",
        "\n",
        "def model(X, theta):\n",
        "    return X.dot(theta)\n",
        "\n",
        "def cost_function(X, y, theta):\n",
        "    m = len(y)\n",
        "    return 1/(2*m) * np.sum((model(X, theta) - y)**2)\n",
        "\n",
        "def grad(X, y, theta, learning_rate, n_iterations):\n",
        "  cost_history = np.zeros(n_iterations)\n",
        "  m = len(y)\n",
        "  for i in range(n_iterations):\n",
        "    theta = theta - learning_rate * 1/m * X.T.dot(model(X, theta) - scaled_price)\n",
        "    # mise a jour du parametre theta (formule du gradient descent)\n",
        "    cost_history[i] = cost_function(X, y, theta) # on enregistre la valeur du Cout au tour i dans cost_history[i] \n",
        "  return theta, cost_history\n",
        "    \n",
        "\n",
        "  # return 1/m * X.T.dot(X.dot(theta) - scaled_price)\n",
        "\n",
        "n_iterations = 1000000\n",
        "learning_rate = 0.001\n",
        "\n",
        "\n",
        "theta_final, cost_history = grad(X, scaled_price, theta, learning_rate, n_iterations)\n",
        "print(theta_final, cost_history)"
      ],
      "metadata": {
        "colab": {
          "base_uri": "https://localhost:8080/"
        },
        "id": "vVaOFngd6fJK",
        "outputId": "3642cda4-2ce1-4438-8258-5661a02d7e4d"
      },
      "execution_count": 53,
      "outputs": [
        {
          "output_type": "stream",
          "name": "stdout",
          "text": [
            "[[-1.00357574]\n",
            " [ 0.93931893]] [0.20543325 0.20507724 0.20472203 ... 0.01034959 0.01034959 0.01034959]\n"
          ]
        }
      ]
    },
    {
      "cell_type": "code",
      "source": [
        "predictions = model(X, theta_final)\n"
      ],
      "metadata": {
        "id": "x97TvYdn8Muf"
      },
      "execution_count": 54,
      "outputs": []
    },
    {
      "cell_type": "code",
      "source": [
        "plt.plot(range(n_iterations), cost_history)"
      ],
      "metadata": {
        "colab": {
          "base_uri": "https://localhost:8080/",
          "height": 295
        },
        "id": "y3JeL0AXLG-e",
        "outputId": "59b8550c-4e74-46f3-a133-4bbb0ee04c6f"
      },
      "execution_count": 55,
      "outputs": [
        {
          "output_type": "execute_result",
          "data": {
            "text/plain": [
              "[<matplotlib.lines.Line2D at 0x7fb0d31b0580>]"
            ]
          },
          "metadata": {},
          "execution_count": 55
        },
        {
          "output_type": "display_data",
          "data": {
            "text/plain": [
              "<Figure size 432x288 with 1 Axes>"
            ],
            "image/png": "[encoded data removed]"
          },
          "metadata": {
            "needs_background": "light"
          }
        }
      ]
    },
    {
      "cell_type": "code",
      "source": [
        "def coef_determination(y, pred):\n",
        "    u = ((y - pred)**2).sum()\n",
        "    v = ((y - y.mean())**2).sum()\n",
        "    return 1 - u/v\n",
        "\n",
        "coef_determination(scaled_price, predictions)"
      ],
      "metadata": {
        "colab": {
          "base_uri": "https://localhost:8080/"
        },
        "id": "MIOZGNuKLNQn",
        "outputId": "b5311dcb-99da-42e2-e501-14fdd8f362bd"
      },
      "execution_count": 56,
      "outputs": [
        {
          "output_type": "execute_result",
          "data": {
            "text/plain": [
              "0.7329747078314965"
            ]
          },
          "metadata": {},
          "execution_count": 56
        }
      ]
    },
    {
      "cell_type": "code",
      "source": [
        "x_ = np.linspace(min(scaled_miles), max(scaled_miles), 100)\n",
        "y_ = theta_final[0] * x_ + theta_final[1]\n",
        "print(theta)\n",
        "plt.plot(x_, y_, c='g')\n",
        "plt.scatter(scaled_miles, scaled_price, c='r')\n"
      ],
      "metadata": {
        "colab": {
          "base_uri": "https://localhost:8080/",
          "height": 317
        },
        "id": "WbPTa3J7LXyn",
        "outputId": "f0b70971-0695-49e5-88e7-5a3ce981e816"
      },
      "execution_count": 57,
      "outputs": [
        {
          "output_type": "stream",
          "name": "stdout",
          "text": [
            "[[0]\n",
            " [0]]\n"
          ]
        },
        {
          "output_type": "execute_result",
          "data": {
            "text/plain": [
              "<matplotlib.collections.PathCollection at 0x7fb0d3176220>"
            ]
          },
          "metadata": {},
          "execution_count": 57
        },
        {
          "output_type": "display_data",
          "data": {
            "text/plain": [
              "<Figure size 432x288 with 1 Axes>"
            ],
            "image/png": "[encoded data removed]"
          },
          "metadata": {
            "needs_background": "light"
          }
        }
      ]
    },
    {
      "cell_type": "code",
      "source": [],
      "metadata": {
        "id": "3hPo3iIQV0xj"
      },
      "execution_count": null,
      "outputs": []
    }
  ]
}